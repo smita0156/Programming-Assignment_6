{
 "cells": [
  {
   "cell_type": "code",
   "execution_count": null,
   "id": "82708c35-161c-4727-af60-276c3234a613",
   "metadata": {},
   "outputs": [],
   "source": [
    "1. Write a Python Program to Display Fibonacci Sequence Using Recursion?"
   ]
  },
  {
   "cell_type": "code",
   "execution_count": null,
   "id": "8d7b951e-2246-42d9-9f05-7f06c93c5257",
   "metadata": {},
   "outputs": [],
   "source": [
    "#answer\n",
    "def recurfib(n):\n",
    "    if n<=1:\n",
    "        return n\n",
    "    else:\n",
    "        return recurfib(n-1) + recurfib(n-2)\n",
    "\n",
    "num = int(input(\"input no : \"))\n",
    "\n",
    "if num <=0:\n",
    "    print(\"Please provide positive no.\")\n",
    "\n",
    "else:\n",
    "    for i in range(num):\n",
    "        print(recurfib(i) , end=\" \")\n",
    "       \n",
    "    "
   ]
  },
  {
   "cell_type": "code",
   "execution_count": null,
   "id": "4e8bf375-c5cb-418d-9d1c-dff0e0dce931",
   "metadata": {},
   "outputs": [],
   "source": [
    "input no : 5\n",
    "0 1 1 2 3 "
   ]
  },
  {
   "cell_type": "code",
   "execution_count": null,
   "id": "7f462bfb-0379-4bcd-9e70-5c1857e9eb0e",
   "metadata": {},
   "outputs": [],
   "source": [
    "2. Write a Python Program to Find Factorial of Number Using Recursion?"
   ]
  },
  {
   "cell_type": "code",
   "execution_count": null,
   "id": "ee9ead8d-2142-424a-8aea-d9b65a602e83",
   "metadata": {},
   "outputs": [],
   "source": [
    "#answer\n",
    "def fact(n):\n",
    "    if n==0:\n",
    "        return 1\n",
    "    else:\n",
    "        return n * fact(n-1)\n",
    "\n",
    "num = int(input(\"input a no : \"))\n",
    "\n",
    "if num<0:\n",
    "    print(\"Enter positive no.\")\n",
    "else:\n",
    "    \n",
    "        print(fact(num))\n",
    "\n",
    "\n",
    "    "
   ]
  },
  {
   "cell_type": "code",
   "execution_count": null,
   "id": "049a0db6-3bf4-4c52-9391-af2ac8d01571",
   "metadata": {},
   "outputs": [],
   "source": [
    "input a no : 5\n",
    "120"
   ]
  },
  {
   "cell_type": "code",
   "execution_count": null,
   "id": "acd4f239-a10c-4f15-a596-02c9994e90af",
   "metadata": {},
   "outputs": [],
   "source": [
    "3. Write a Python Program to calculate your Body Mass Index?"
   ]
  },
  {
   "cell_type": "code",
   "execution_count": null,
   "id": "d1dfba65-5ed5-44c1-bd9d-6b6f2cc20767",
   "metadata": {},
   "outputs": [],
   "source": [
    "#answer\n",
    "\n",
    "# BMI = weight / Height * height\n",
    "\n",
    "h = float(input(\"enter your height in feet : \"))\n",
    "w = float(input(\"enter your weight in kilo : \"))\n",
    "\n",
    "bmi = w/(h**2)\n",
    "\n",
    "print(\"The BIM is = \",bmi)"
   ]
  },
  {
   "cell_type": "code",
   "execution_count": null,
   "id": "c6994124-8aef-4d4f-b0cc-055559dc1225",
   "metadata": {},
   "outputs": [],
   "source": [
    "enter your height in feet : 5.7\n",
    "enter your weight in kilo : 62\n",
    "The BIM is =  1.9082794706063404"
   ]
  },
  {
   "cell_type": "code",
   "execution_count": null,
   "id": "70f2a724-1180-4b14-9f9b-457bce66532a",
   "metadata": {},
   "outputs": [],
   "source": [
    "4. Write a Python Program to calculate the natural logarithm of any number?"
   ]
  },
  {
   "cell_type": "code",
   "execution_count": null,
   "id": "a5bf3fbb-5e19-4a5f-9f70-20f766779e7e",
   "metadata": {},
   "outputs": [],
   "source": [
    "#answer\n",
    "import math\n",
    "x = int(input((\"Enter a number : \")))\n",
    "log = math.log(x)\n",
    "print(\"Log of {} is {}\".format(x, log))"
   ]
  },
  {
   "cell_type": "code",
   "execution_count": null,
   "id": "ad9f7435-c421-46fb-a123-aafd7defa328",
   "metadata": {},
   "outputs": [],
   "source": [
    "Enter a number : 5\n",
    "Log of 5 is 1.6094379124341003"
   ]
  },
  {
   "cell_type": "code",
   "execution_count": null,
   "id": "55ebafd0-7a2d-4a4d-9b48-a80e37fd3ca3",
   "metadata": {},
   "outputs": [],
   "source": [
    "5. Write a Python Program for cube sum of first n natural numbers?"
   ]
  },
  {
   "cell_type": "code",
   "execution_count": null,
   "id": "0bf06b23-5d54-4029-a8d8-97658bb9dcf4",
   "metadata": {},
   "outputs": [],
   "source": [
    "num = int(input(\"Enter a no :\"))\n",
    "sum = 0\n",
    "for i in range(1 , num+1):\n",
    "    sum = sum + i**3\n",
    "print(\"Cube sum of {} natural numbers is {}\".format(num,sum))    "
   ]
  },
  {
   "cell_type": "code",
   "execution_count": null,
   "id": "99ed65b5-1bde-4345-9cb6-6258864cff19",
   "metadata": {},
   "outputs": [],
   "source": [
    "Enter a no :4\n",
    "Cube sum of 4 natural numbers is 100"
   ]
  }
 ],
 "metadata": {
  "kernelspec": {
   "display_name": "Python 3 (ipykernel)",
   "language": "python",
   "name": "python3"
  },
  "language_info": {
   "codemirror_mode": {
    "name": "ipython",
    "version": 3
   },
   "file_extension": ".py",
   "mimetype": "text/x-python",
   "name": "python",
   "nbconvert_exporter": "python",
   "pygments_lexer": "ipython3",
   "version": "3.10.6"
  }
 },
 "nbformat": 4,
 "nbformat_minor": 5
}
